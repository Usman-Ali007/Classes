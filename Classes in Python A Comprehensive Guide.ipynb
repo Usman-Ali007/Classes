{
 "cells": [
  {
   "cell_type": "markdown",
   "id": "81a365e3",
   "metadata": {},
   "source": [
    "# Classes in Python: A Comprehensive Guide\n",
    "\n",
    "## Introduction\n",
    "### In Python, classes are a fundamental building block for object-oriented programming (OOP). OOP is a programming paradigm that uses objects and classes to model real-world scenarios. They allow you to create user-defined data structures that encapsulate both data (attributes) and behavior (methods). This encapsulation promotes code reusability, modularity, and maintainability."
   ]
  },
  {
   "cell_type": "markdown",
   "id": "0a0d6649",
   "metadata": {},
   "source": [
    "## Key Concepts\n",
    "### Class: A blueprint for creating objects. It defines the attributes and methods that objects of that class will possess.\n",
    "### Object: An instance of a class. It has its own unique set of attribute values.\n",
    "### Attributes: Variables that store data associated with an object.\n",
    "### Methods: Functions that operate on the object's data.\n",
    "### Constructor: A special method called __init__ that is automatically invoked when an object is created. It initializes the object's attributes.\n",
    "## Creating a Class and Object"
   ]
  },
  {
   "cell_type": "code",
   "execution_count": 1,
   "id": "0239378a",
   "metadata": {},
   "outputs": [
    {
     "name": "stdout",
     "output_type": "stream",
     "text": [
      "Buddy\n",
      "Buddy barks!\n"
     ]
    }
   ],
   "source": [
    "class Dog:\n",
    "    def __init__(self, name, breed):\n",
    "        self.name = name\n",
    "        self.breed = breed\n",
    "\n",
    "    def bark(self):\n",
    "        print(f\"{self.name} barks!\")\n",
    "\n",
    "# Create an object of the Dog class\n",
    "my_dog = Dog(\"Buddy\", \"Golden Retriever\")\n",
    "\n",
    "# Access attributes and call methods\n",
    "print(my_dog.name)  # Output: Buddy\n",
    "my_dog.bark()  # Output: Buddy barks!"
   ]
  },
  {
   "cell_type": "markdown",
   "id": "db04f438",
   "metadata": {},
   "source": [
    "## Inheritance\n",
    "### Inheritance allows you to create new classes (child classes) that inherit attributes and methods from existing classes (parent classes). This promotes code reuse and hierarchical relationships between classes."
   ]
  },
  {
   "cell_type": "code",
   "execution_count": 2,
   "id": "9dcf9e3a",
   "metadata": {},
   "outputs": [
    {
     "name": "stdout",
     "output_type": "stream",
     "text": [
      "Buddy is eating.\n",
      "Buddy barks!\n"
     ]
    }
   ],
   "source": [
    "class Animal:\n",
    "    def __init__(self, name):\n",
    "        self.name = name\n",
    "\n",
    "    def eat(self):\n",
    "        print(f\"{self.name} is eating.\")\n",
    "\n",
    "class Dog(Animal):\n",
    "    def bark(self):\n",
    "        print(f\"{self.name} barks!\")\n",
    "\n",
    "my_dog = Dog(\"Buddy\")\n",
    "my_dog.eat()  # Output: Buddy is eating.\n",
    "my_dog.bark()  # Output: Buddy barks!"
   ]
  },
  {
   "cell_type": "markdown",
   "id": "d76e9927",
   "metadata": {},
   "source": [
    "## Encapsulation\n",
    "### Encapsulation is the practice of hiding the internal implementation details of a class from the outside world. This promotes code modularity and prevents unintended modifications."
   ]
  },
  {
   "cell_type": "code",
   "execution_count": 3,
   "id": "788a14d6",
   "metadata": {},
   "outputs": [],
   "source": [
    "class BankAccount:\n",
    "    def __init__(self, balance):\n",
    "        self.__balance = balance  # Private attribute\n",
    "\n",
    "    def deposit(self, amount):\n",
    "        self.__balance += amount\n",
    "\n",
    "    def withdraw(self, amount):\n",
    "        if self.__balance >= amount:\n",
    "            self.__balance -= amount\n",
    "        else:\n",
    "            print(\"Insufficient funds.\")\n",
    "\n",
    "    def get_balance(self):\n",
    "        return self.__balance"
   ]
  },
  {
   "cell_type": "markdown",
   "id": "99ec9b48",
   "metadata": {},
   "source": [
    "## Practice Exercises\n",
    "\n",
    "### 1. Create a class Person with attributes name, age, and city.\n",
    "### 2. Create a class Car with attributes make, model, and year.\n",
    "### 3. Create a class Circle with attributes radius and methods to calculate area and circumference.\n",
    "### 4. Create a class Rectangle with attributes length and width and methods to calculate area and perimeter.\n",
    "### 5. Create a class Student with attributes name, roll_number, and marks. Implement a method to calculate the average marks.\n",
    "### 6. Create a class Book with attributes title, author, and publication_year.\n",
    "### 7. Create a class Employee with attributes name, salary, and designation.\n",
    "### 8. Create a class Bank with attributes name, account_number, and balance. Implement methods to deposit and withdraw money.\n",
    "### 9. Create a class Shape with a method to calculate area. Create subclasses Circle, Rectangle, and Triangle that inherit from Shape and implement their specific area calculations.\n",
    "### 10. Create a class Animal with attributes name and sound. Create subclasses Dog, Cat, and Cow that inherit from Animal and implement their specific sounds.\n",
    "\n",
    "## Additional Tips\n",
    "### Use meaningful names for classes, attributes, and methods.\n",
    "### Write clear and concise code.\n",
    "### Use comments to explain complex logic.\n",
    "### Test your code thoroughly.\n",
    "### Consider using inheritance to avoid code duplication.\n",
    "### Encapsulate data to protect it from accidental modification.\n",
    "### Use polymorphism to create flexible and adaptable code."
   ]
  },
  {
   "cell_type": "code",
   "execution_count": 10,
   "id": "cae0ab42",
   "metadata": {},
   "outputs": [
    {
     "name": "stdout",
     "output_type": "stream",
     "text": [
      "Bilal is a good bro\n",
      "Lahore\n",
      "Bilal\n",
      "19\n"
     ]
    }
   ],
   "source": [
    "# Question no1: Create a class Person with attributes name, age, and city.\n",
    "class human:\n",
    "    def __init__(self, name, age, city):\n",
    "        self.name = 'Bilal'\n",
    "        self.age = 19\n",
    "        self.city = \"Lahore\"\n",
    "    def info(self):\n",
    "        print(f\"{self.name} is a good bro\")\n",
    "human1 = human(\"bilal\", 19, \"lahore\")\n",
    "human1.info()\n",
    "print(human1.city)\n",
    "print(human1.name)\n",
    "print(human1.age)"
   ]
  },
  {
   "cell_type": "code",
   "execution_count": 16,
   "id": "b4c666b0-1bc9-4d24-a7f2-3beb379aa577",
   "metadata": {},
   "outputs": [
    {
     "name": "stdout",
     "output_type": "stream",
     "text": [
      "Nissan skyline is ur current Car\n",
      "Nissan skyline\n",
      "R34\n",
      "2004\n"
     ]
    }
   ],
   "source": [
    "#Create a class Car with attributes make, model, and year.\n",
    "class car:\n",
    "    def __init__(self, make, model, year):\n",
    "        self.name = \"Nissan skyline\"\n",
    "        self.make = \"R34\"\n",
    "        self.year = 2004\n",
    "    def detail(self):\n",
    "        print(f'{self.name} is ur current Car')\n",
    "car1 = car(\"Nissan skyline\", \"R34\", 2004)\n",
    "car1.detail()\n",
    "print(car1.name)\n",
    "print(car1.make)\n",
    "print(car1.year)"
   ]
  },
  {
   "cell_type": "code",
   "execution_count": 4,
   "id": "43c117e0-85d2-4808-90f0-ab5ddab54de2",
   "metadata": {},
   "outputs": [],
   "source": [
    "#Create a class Circle with attributes radius and methods to calculate area and circumference.\n",
    "class circle:\n",
    "    def __init__(self, radius, pie):\n",
    "        self.radius = radius\n",
    "        self.pie = 22/7\n",
    "    def area(self):\n",
    "        print(f\"The area of the circle is: {self.pi * self.radius ** 2}\")\n",
    "    def circumference(self):\n",
    "        print(f\"The circumference of the circle is: {2 * self.pi * self.radius}\")"
   ]
  },
  {
   "cell_type": "code",
   "execution_count": 5,
   "id": "54da6dde-e3db-41ba-94ca-07665b4e7b6e",
   "metadata": {},
   "outputs": [
    {
     "name": "stdout",
     "output_type": "stream",
     "text": [
      "Area: 15\n",
      "Perimeter: 16\n"
     ]
    }
   ],
   "source": [
    "#4\n",
    "class Rectangle:\n",
    "    def __init__(self, length, width):\n",
    "        self.length = length\n",
    "        self.width = width\n",
    "\n",
    "    def area(self):\n",
    "        return self.length * self.width\n",
    "\n",
    "    def perimeter(self):\n",
    "        return 2 * (self.length + self.width)\n",
    "\n",
    "# Example usage:\n",
    "rect = Rectangle(5, 3)\n",
    "print(\"Area:\", rect.area())         # Output: Area: 15\n",
    "print(\"Perimeter:\", rect.perimeter())"
   ]
  },
  {
   "cell_type": "code",
   "execution_count": 6,
   "id": "5274a88a-ec28-44ab-bb82-8b0fd904d464",
   "metadata": {},
   "outputs": [
    {
     "name": "stdout",
     "output_type": "stream",
     "text": [
      "Average Marks: 84.33333333333333\n"
     ]
    }
   ],
   "source": [
    "# 5. Create a class Student with attributes name, roll_number, and marks. Implement a method to calculate the average marks.\n",
    "class Student:\n",
    "    def __init__(self, name, roll_number, marks):\n",
    "        self.name = name\n",
    "        self.roll_number = roll_number\n",
    "        self.marks = marks  # Marks should be a list of numbers.\n",
    "\n",
    "    def average_marks(self):\n",
    "        return sum(self.marks) / len(self.marks)\n",
    "\n",
    "# Example usage:\n",
    "student = Student(\"Alice\", 101, [85, 90, 78])\n",
    "print(\"Average Marks:\", student.average_marks())"
   ]
  },
  {
   "cell_type": "code",
   "execution_count": 7,
   "id": "988160b4-d4df-4dac-845e-c5cbfacd8750",
   "metadata": {},
   "outputs": [
    {
     "name": "stdout",
     "output_type": "stream",
     "text": [
      "Title: To Kill a Mockingbird\n",
      "Author: Harper Lee\n",
      "Publication Year: 1960\n"
     ]
    }
   ],
   "source": [
    "# 6. Create a class Book with attributes title, author, and publication_year.\n",
    "class Book:\n",
    "    def __init__(self, title, author, publication_year):\n",
    "        self.title = title\n",
    "        self.author = author\n",
    "        self.publication_year = publication_year\n",
    "\n",
    "# Example usage:\n",
    "book = Book(\"To Kill a Mockingbird\", \"Harper Lee\", 1960)\n",
    "print(\"Title:\", book.title)                  # Output: Title: To Kill a Mockingbird\n",
    "print(\"Author:\", book.author)                # Output: Author: Harper Lee\n",
    "print(\"Publication Year:\", book.publication_year)  # Output: Publication Year: 1960"
   ]
  },
  {
   "cell_type": "code",
   "execution_count": 8,
   "id": "a497844b-888b-4ea8-8d49-82d3f56b16ed",
   "metadata": {},
   "outputs": [
    {
     "name": "stdout",
     "output_type": "stream",
     "text": [
      "Name: John Doe\n",
      "Salary: 50000\n",
      "Designation: Software Engineer\n"
     ]
    }
   ],
   "source": [
    "# 7. Create a class Employee with attributes name, salary, and designation.\n",
    "class Employee:\n",
    "    def __init__(self, name, salary, designation):\n",
    "        self.name = name\n",
    "        self.salary = salary\n",
    "        self.designation = designation\n",
    "\n",
    "# Example usage:\n",
    "employee = Employee(\"John Doe\", 50000, \"Software Engineer\")\n",
    "print(\"Name:\", employee.name)             # Output: Name: John Doe\n",
    "print(\"Salary:\", employee.salary)         # Output: Salary: 50000\n",
    "print(\"Designation:\", employee.designation)  # Output: Designation: Software Engineer"
   ]
  },
  {
   "cell_type": "code",
   "execution_count": 9,
   "id": "e3df5e79-32fd-4fad-999d-cbda47e88509",
   "metadata": {},
   "outputs": [
    {
     "name": "stdout",
     "output_type": "stream",
     "text": [
      "Deposited 500. New balance: 1500\n",
      "Withdrew 200. New balance: 1300\n",
      "Insufficient funds.\n"
     ]
    }
   ],
   "source": [
    "# 8. Create a class Bank with attributes name, account_number, and balance. Implement methods to deposit and withdraw money.\n",
    "class Bank:\n",
    "    def __init__(self, name, account_number, balance=0):\n",
    "        self.name = name\n",
    "        self.account_number = account_number\n",
    "        self.balance = balance\n",
    "\n",
    "    def deposit(self, amount):\n",
    "        self.balance += amount\n",
    "        return f\"Deposited {amount}. New balance: {self.balance}\"\n",
    "\n",
    "    def withdraw(self, amount):\n",
    "        if amount > self.balance:\n",
    "            return \"Insufficient funds.\"\n",
    "        else:\n",
    "            self.balance -= amount\n",
    "            return f\"Withdrew {amount}. New balance: {self.balance}\"\n",
    "\n",
    "# Example usage:\n",
    "account = Bank(\"Alice\", \"12345678\", 1000)\n",
    "print(account.deposit(500))       # Output: Deposited 500. New balance: 1500\n",
    "print(account.withdraw(200))      # Output: Withdrew 200. New balance: 1300\n",
    "print(account.withdraw(2000))     # Output: Insufficient funds."
   ]
  },
  {
   "cell_type": "code",
   "execution_count": 10,
   "id": "a101f4a5-d3b5-44d6-bd1c-cc5fbc165b2f",
   "metadata": {},
   "outputs": [
    {
     "name": "stdout",
     "output_type": "stream",
     "text": [
      "Circle Area: 78.53981633974483\n",
      "Rectangle Area: 28\n",
      "Triangle Area: 24.0\n"
     ]
    }
   ],
   "source": [
    "# 9. Create a class Shape with a method to calculate area. Create subclasses Circle, Rectangle, and Triangle that inherit from Shape and implement their specific area calculations.\n",
    "import math\n",
    "\n",
    "class Shape:\n",
    "    def area(self):\n",
    "        pass  # This method will be overridden in subclasses\n",
    "\n",
    "class Circle(Shape):\n",
    "    def __init__(self, radius):\n",
    "        self.radius = radius\n",
    "\n",
    "    def area(self):\n",
    "        return math.pi * self.radius ** 2\n",
    "\n",
    "class Rectangle(Shape):\n",
    "    def __init__(self, length, width):\n",
    "        self.length = length\n",
    "        self.width = width\n",
    "\n",
    "    def area(self):\n",
    "        return self.length * self.width\n",
    "\n",
    "class Triangle(Shape):\n",
    "    def __init__(self, base, height):\n",
    "        self.base = base\n",
    "        self.height = height\n",
    "\n",
    "    def area(self):\n",
    "        return 0.5 * self.base * self.height\n",
    "\n",
    "# Example usage:\n",
    "circle = Circle(5)\n",
    "print(\"Circle Area:\", circle.area())  # Output: Circle Area: 78.54\n",
    "\n",
    "rectangle = Rectangle(4, 7)\n",
    "print(\"Rectangle Area:\", rectangle.area())  # Output: Rectangle Area: 28\n",
    "\n",
    "triangle = Triangle(6, 8)\n",
    "print(\"Triangle Area:\", triangle.area())  # Output: Triangle Area: 24"
   ]
  },
  {
   "cell_type": "code",
   "execution_count": 11,
   "id": "04c82256-ebc9-467b-81cd-10c2197605ec",
   "metadata": {},
   "outputs": [
    {
     "name": "stdout",
     "output_type": "stream",
     "text": [
      "Buddy says: Woof! Woof!\n",
      "Whiskers says: Meow!\n",
      "Daisy says: Moo!\n"
     ]
    }
   ],
   "source": [
    "# 10. Create a class Animal with attributes name and sound. Create subclasses Dog, Cat, and Cow that inherit from Animal and implement their specific sounds.\n",
    "class Animal:\n",
    "    def __init__(self, name):\n",
    "        self.name = name\n",
    "\n",
    "    def sound(self):\n",
    "        pass  # To be overridden in subclasses\n",
    "\n",
    "class Dog(Animal):\n",
    "    def sound(self):\n",
    "        return \"Woof! Woof!\"\n",
    "\n",
    "class Cat(Animal):\n",
    "    def sound(self):\n",
    "        return \"Meow!\"\n",
    "\n",
    "class Cow(Animal):\n",
    "    def sound(self):\n",
    "        return \"Moo!\"\n",
    "\n",
    "# Example usage:\n",
    "dog = Dog(\"Buddy\")\n",
    "print(f\"{dog.name} says: {dog.sound()}\")  # Output: Buddy says: Woof! Woof!\n",
    "\n",
    "cat = Cat(\"Whiskers\")\n",
    "print(f\"{cat.name} says: {cat.sound()}\")  # Output: Whiskers says: Meow!\n",
    "\n",
    "cow = Cow(\"Daisy\")\n",
    "print(f\"{cow.name} says: {cow.sound()}\")  # Output: Daisy says: Moo!"
   ]
  },
  {
   "cell_type": "code",
   "execution_count": null,
   "id": "65cac5ee-44f5-4912-8bd9-f52e910d083e",
   "metadata": {},
   "outputs": [],
   "source": []
  }
 ],
 "metadata": {
  "kernelspec": {
   "display_name": "Python 3 (ipykernel)",
   "language": "python",
   "name": "python3"
  },
  "language_info": {
   "codemirror_mode": {
    "name": "ipython",
    "version": 3
   },
   "file_extension": ".py",
   "mimetype": "text/x-python",
   "name": "python",
   "nbconvert_exporter": "python",
   "pygments_lexer": "ipython3",
   "version": "3.12.7"
  }
 },
 "nbformat": 4,
 "nbformat_minor": 5
}
